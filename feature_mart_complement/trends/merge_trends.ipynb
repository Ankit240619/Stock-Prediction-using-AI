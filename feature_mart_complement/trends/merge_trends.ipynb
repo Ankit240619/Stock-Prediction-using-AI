{
 "cells": [
  {
   "cell_type": "code",
   "execution_count": 3,
   "metadata": {},
   "outputs": [
    {
     "name": "stdout",
     "output_type": "stream",
     "text": [
      "合并完成！数据已保存到 C:\\Users\\zhao\\Desktop\\final\\trends\\merged_trends.csv\n"
     ]
    }
   ],
   "source": [
    "import os\n",
    "import pandas as pd\n",
    "\n",
    "folder_path = \"C:\\\\Users\\\\zhao\\\\Desktop\\\\final\\\\trends\"\n",
    "csv_files = [file for file in os.listdir(folder_path) if file.endswith('.csv')]\n",
    "merged_data = pd.DataFrame()\n",
    "\n",
    "for file in csv_files:\n",
    "    file_path = os.path.join(folder_path, file)\n",
    "    df = pd.read_csv(file_path)\n",
    "    \n",
    "    # 检查是否包含 Date 和 Interest 列\n",
    "    if 'Date' in df.columns and 'Interest' in df.columns:\n",
    "        df['Date'] = pd.to_datetime(df['Date'])  # 确保 Date 列为日期格式\n",
    "        merged_data = pd.concat([merged_data, df], ignore_index=True)\n",
    "    else:\n",
    "        print(f\"文件 {file} 缺少必要列，已跳过。\")\n",
    "\n",
    "# 按 Date 排序并去重\n",
    "merged_data = merged_data.sort_values(by='Date').drop_duplicates(subset=['Date'])\n",
    "\n",
    "# 保存合并后的文件\n",
    "output_path = os.path.join(folder_path, \"merged_trends.csv\")\n",
    "merged_data.to_csv(output_path, index=False)\n",
    "\n",
    "print(f\"合并完成！数据已保存到 {output_path}\")"
   ]
  }
 ],
 "metadata": {
  "kernelspec": {
   "display_name": "Python 3",
   "language": "python",
   "name": "python3"
  },
  "language_info": {
   "codemirror_mode": {
    "name": "ipython",
    "version": 3
   },
   "file_extension": ".py",
   "mimetype": "text/x-python",
   "name": "python",
   "nbconvert_exporter": "python",
   "pygments_lexer": "ipython3",
   "version": "3.12.1"
  }
 },
 "nbformat": 4,
 "nbformat_minor": 2
}
