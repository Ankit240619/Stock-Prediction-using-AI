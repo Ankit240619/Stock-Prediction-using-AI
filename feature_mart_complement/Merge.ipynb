{
 "cells": [
  {
   "cell_type": "code",
   "execution_count": 4,
   "metadata": {},
   "outputs": [],
   "source": [
    "import pandas as pd\n",
    "\n",
    "feature_mart_file = \"C:\\\\Users\\\\zhao\\\\Desktop\\\\final\\\\feature_mart_complement\\\\NFLX_Feature_Mart.csv\"\n",
    "sentiment_file = \"C:\\\\Users\\\\zhao\\\\Desktop\\\\final\\\\feature_mart_complement\\\\Sentiment.csv\"\n",
    "trends_file = \"C:\\\\Users\\\\zhao\\\\Desktop\\\\final\\\\feature_mart_complement\\\\Trends.csv\"\n",
    "\n",
    "feature_mart_data = pd.read_csv(feature_mart_file)\n",
    "sentiment_data = pd.read_csv(sentiment_file)\n",
    "trends_data = pd.read_csv(trends_file)\n",
    "\n",
    "feature_mart_data['Date'] = pd.to_datetime(feature_mart_data['Date'])\n",
    "sentiment_data['Date'] = pd.to_datetime(sentiment_data['Date'])\n",
    "trends_data['Date'] = pd.to_datetime(trends_data['Date'])\n",
    "\n",
    "merged_data = pd.merge(feature_mart_data, sentiment_data, on='Date', how='inner')\n",
    "merged_data = pd.merge(merged_data, trends_data, on='Date', how='inner')\n",
    "\n",
    "output_file = r\"completed_feature_mart.csv\"\n",
    "merged_data.to_csv(output_file, index=False)"
   ]
  }
 ],
 "metadata": {
  "kernelspec": {
   "display_name": "Python 3",
   "language": "python",
   "name": "python3"
  },
  "language_info": {
   "codemirror_mode": {
    "name": "ipython",
    "version": 3
   },
   "file_extension": ".py",
   "mimetype": "text/x-python",
   "name": "python",
   "nbconvert_exporter": "python",
   "pygments_lexer": "ipython3",
   "version": "3.12.1"
  }
 },
 "nbformat": 4,
 "nbformat_minor": 2
}
